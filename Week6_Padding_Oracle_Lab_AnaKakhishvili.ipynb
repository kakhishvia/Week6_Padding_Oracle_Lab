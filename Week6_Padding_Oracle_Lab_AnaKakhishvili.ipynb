{
  "metadata": {
    "kernelspec": {
      "name": "python",
      "display_name": "Python (Pyodide)",
      "language": "python"
    },
    "language_info": {
      "codemirror_mode": {
        "name": "python",
        "version": 3
      },
      "file_extension": ".py",
      "mimetype": "text/x-python",
      "name": "python",
      "nbconvert_exporter": "python",
      "pygments_lexer": "ipython3",
      "version": "3.8"
    }
  },
  "nbformat_minor": 5,
  "nbformat": 4,
  "cells": [
    {
      "id": "2b3dac4e-2037-4586-9061-2a908444b171",
      "cell_type": "markdown",
      "source": "from cryptography.hazmat.primitives import padding\nfrom cryptography.hazmat.primitives.ciphers import Cipher, algorithms, modes\n\ndef padding_oracle(ciphertext: bytes) -> bool:\n    \"\"\"\n    Checks if the given ciphertext has valid PKCS#7 padding after decryption.\n    Returns True if valid, False otherwise.\n    \"\"\"\n    BLOCK_SIZE = 16  # AES block size in bytes\n\n    # Check if ciphertext length is valid (must be a multiple of 16)\n    if len(ciphertext) % BLOCK_SIZE != 0:\n        return False\n\n    try:\n        # Extract the IV and the actual ciphertext\n        iv = ciphertext[:BLOCK_SIZE]\n        ct = ciphertext[BLOCK_SIZE:]\n\n        # Set up AES in CBC mode using the key and IV\n        cipher = Cipher(algorithms.AES(KEY), modes.CBC(iv))\n        decryptor = cipher.decryptor()\n\n        # Decrypt the ciphertext\n        decrypted_data = decryptor.update(ct) + decryptor.finalize()\n\n        # Try to remove padding\n        unpadder = padding.PKCS7(BLOCK_SIZE * 8).unpadder()\n        unpadder.update(decrypted_data)\n        unpadder.finalize()\n\n        return True  # If no error, padding is valid\n\n    except (ValueError, TypeError):\n        return False  # Padding was invalid\n\n",
      "metadata": {}
    },
    {
      "id": "501a0003-b7c4-45d9-9287-e9388548d73d",
      "cell_type": "markdown",
      "source": "## Task 1 – Understand the Components\n\n### Q1: How does the `padding_oracle()` function check if padding is valid?\n\nThe `padding_oracle()` function decrypts the ciphertext using AES-CBC mode.  \nAfter decryption, it tries to remove the padding using PKCS#7.  \nIf the padding is correct, it succeeds and returns True.  \nIf the padding is invalid, it throws a ValueError or TypeError, which is caught — then the function returns False.  \nThis lets us know whether the padding in the decrypted message is valid or not.",
      "metadata": {}
    },
    {
      "id": "93b86344-5f11-405a-a26c-2efa3715fee1",
      "cell_type": "markdown",
      "source": "### Q2: What is the purpose of the IV in CBC mode?\n\nThe IV (Initialization Vector) is used to randomize encryption.  \nIn CBC mode, the IV is XORed with the first plaintext block before it is encrypted.  \nThis helps make sure that even if the same message is encrypted twice, the ciphertext will look different.  \nIt protects against attackers seeing patterns in repeated messages.\n",
      "metadata": {}
    },
    {
      "id": "6feabe6a-23cc-4751-887d-0c61b76628f9",
      "cell_type": "markdown",
      "source": "### Q3: Why must the ciphertext length be a multiple of the block size?\n\nAES works in blocks of 16 bytes.  \nIf the ciphertext isn’t a multiple of 16, decryption will not work because AES expects full blocks.  \nAlso, when using padding like PKCS#7, the encrypted data includes padding to make sure the length is correct.\n",
      "metadata": {}
    },
    {
      "id": "a3c0e435-4051-4252-8b1c-f74aef20a2c3",
      "cell_type": "code",
      "source": "def split_blocks(data: bytes) -> list[bytes]:\n    \"\"\"\n    Split data into blocks of 16 bytes each (AES block size).\n    \n    Parameters:\n        data (bytes): The input data to split.\n    \n    Returns:\n        list[bytes]: A list of byte blocks, each 16 bytes long.\n    \"\"\"\n    block_size = 16  # AES uses 16-byte blocks\n    return [data[i:i + block_size] for i in range(0, len(data), block_size)]\n",
      "metadata": {
        "trusted": true
      },
      "outputs": [],
      "execution_count": 1
    },
    {
      "id": "746ea70b-201e-46da-973c-6dc420bd4507",
      "cell_type": "code",
      "source": "# Test the function with 32 bytes of data (2 full blocks)\ntest_data = b\"ABCDEFGHIJKLMNOP\" + b\"QRSTUVWXYZ123456\"\nblocks = split_blocks(test_data)\n\nfor i, block in enumerate(blocks):\n    print(f\"Block {i+1}: {block}\")\n",
      "metadata": {
        "trusted": true
      },
      "outputs": [
        {
          "name": "stdout",
          "output_type": "stream",
          "text": "Block 1: b'ABCDEFGHIJKLMNOP'\nBlock 2: b'QRSTUVWXYZ123456'\n"
        }
      ],
      "execution_count": 2
    },
    {
      "id": "2e763d77-579c-4f49-a49f-61624c5569e0",
      "cell_type": "code",
      "source": "def decrypt_block(prev_block: bytes, target_block: bytes) -> bytes:\n    \"\"\"\n    Decrypt a single block using the padding oracle attack.\n    \n    Parameters:\n        prev_block (bytes): The previous ciphertext block (or IV).\n        target_block (bytes): The ciphertext block we want to decrypt.\n    \n    Returns:\n        bytes: The recovered plaintext block.\n    \"\"\"\n    block_size = 16\n    intermediate = [0] * block_size  # Stores intermediate state (D_k(C_i))\n    plaintext = [0] * block_size     # Final plaintext bytes\n\n    # Start from last byte to the first\n    for byte_index in range(block_size - 1, -1, -1):\n        padding_value = block_size - byte_index\n        \n        # Try all possible byte values (0-255)\n        for guess in range(256):\n            # Build a fake block to force the padding\n            fake_block = bytearray(block_size)\n            \n            # Fill in known intermediate values for padding\n            for i in range(byte_index + 1, block_size):\n                fake_block[i] = intermediate[i] ^ padding_value\n            \n            # Set the current guess for this byte\n            fake_block[byte_index] = guess\n\n            # Combine with target block and send to oracle\n            crafted = bytes(fake_block) + target_block\n            if padding_oracle(crafted):\n                # Found a valid guess! Compute intermediate and plaintext byte\n                intermediate[byte_index] = guess ^ padding_value\n                plaintext[byte_index] = intermediate[byte_index] ^ prev_block[byte_index]\n                break\n\n    return bytes(plaintext)\n",
      "metadata": {
        "trusted": true
      },
      "outputs": [],
      "execution_count": 3
    },
    {
      "id": "68a770ba-7b4c-486a-8abd-be7b8a747dab",
      "cell_type": "code",
      "source": "def padding_oracle_attack(ciphertext: bytes) -> bytes:\n    \"\"\"\n    Perform the padding oracle attack on the full ciphertext.\n    \n    Parameters:\n        ciphertext (bytes): Full ciphertext including IV + encrypted blocks.\n    \n    Returns:\n        bytes: The recovered full plaintext.\n    \"\"\"\n    blocks = split_blocks(ciphertext)\n    recovered_plaintext = b\"\"\n\n    # Start from block 1 (C1), use block 0 (IV) as prev_block\n    for i in range(1, len(blocks)):\n        prev = blocks[i - 1]\n        curr = blocks[i]\n        print(f\"[*] Decrypting block {i}...\")\n        recovered_block = decrypt_block(prev, curr)\n        recovered_plaintext += recovered_block\n\n    return recovered_plaintext\n",
      "metadata": {
        "trusted": true
      },
      "outputs": [],
      "execution_count": 4
    },
    {
      "id": "a957266b-4049-4ad7-b7aa-512752169e9f",
      "cell_type": "code",
      "source": "def unpad_and_decode(plaintext: bytes) -> str:\n    \"\"\"\n    Remove PKCS#7 padding and decode the plaintext to a UTF-8 string.\n    \n    Parameters:\n        plaintext (bytes): The recovered plaintext with padding.\n    \n    Returns:\n        str: Cleaned and readable message.\n    \"\"\"\n    unpadder = padding.PKCS7(16 * 8).unpadder()\n    unpadded = unpadder.update(plaintext) + unpadder.finalize()\n    return unpadded.decode('utf-8')\n",
      "metadata": {
        "trusted": true
      },
      "outputs": [],
      "execution_count": null
    },
    {
      "id": "18b74759-922b-4ab8-8563-8d9370e513d4",
      "cell_type": "code",
      "source": "if __name__ == \"__main__\":\n    try:\n        ciphertext = unhexlify(CIPHERTEXT_HEX)\n\n        print(f\"[*] Ciphertext length: {len(ciphertext)} bytes\")\n        print(f\"[*] IV: {ciphertext[:BLOCK_SIZE].hex()}\")\n\n        recovered = padding_oracle_attack(ciphertext)\n\n        print(\"\\n[+] Decryption complete!\")\n        print(f\"Recovered plaintext (raw bytes): {recovered}\")\n        print(f\"Hex: {recovered.hex()}\")\n\n        \n        decoded = unpad_and_decode(recovered)\n        print(\"\\nFinal plaintext:\")\n        print(decoded)\n\n    except Exception as e:\n        print(f\"\\nError occurred: {e}\")",
      "metadata": {
        "trusted": true
      },
      "outputs": [],
      "execution_count": null
    },
    {
      "id": "c2e4ac9c-fd56-448a-bc35-3bca15aa3047",
      "cell_type": "code",
      "source": "## Final Output",
      "metadata": {
        "trusted": true
      },
      "outputs": [],
      "execution_count": null
    },
    {
      "id": "c5bdb84d-8e1d-4d4d-a5a9-9edaf0ec9ddf",
      "cell_type": "code",
      "source": "### Final Decrypted Message:\nThis is a top secret message. Decrypt me if you can!",
      "metadata": {
        "trusted": true
      },
      "outputs": [],
      "execution_count": null
    }
  ]
}